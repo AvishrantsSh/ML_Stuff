{
  "nbformat": 4,
  "nbformat_minor": 0,
  "metadata": {
    "colab": {
      "name": "Hidden Markov Model.ipynb",
      "provenance": [],
      "collapsed_sections": []
    },
    "kernelspec": {
      "name": "python3",
      "display_name": "Python 3"
    }
  },
  "cells": [
    {
      "cell_type": "code",
      "metadata": {
        "id": "gBrubTqXzYWI"
      },
      "source": [
        "%tensorflow_version 2.x"
      ],
      "execution_count": 12,
      "outputs": []
    },
    {
      "cell_type": "code",
      "metadata": {
        "id": "x-3cwpoBzccJ"
      },
      "source": [
        "import tensorflow_probability as tfp\n",
        "import tensorflow as tf"
      ],
      "execution_count": 13,
      "outputs": []
    },
    {
      "cell_type": "code",
      "metadata": {
        "id": "ApEg8jGW0ppj"
      },
      "source": [
        "# Consider the following Set of observations and states for training this model.\n",
        "# 1. Cold days are encoded by a 0 and hot days are encoded by a 1.\n",
        "# 2. The first day in our sequence has an 80% chance of being cold.\n",
        "# 3. A cold day has a 50% chance of being followed by a hot day.\n",
        "# 4. A hot day has a 20% chance of being followed by a cold day.\n",
        "# 5. On each day the temperature is normally distributed with mean and standard deviation 0 and 5 on a cold day and mean and standard deviation 15 and 10 on a hot day.\n",
        "tfd = tfp.distributions\n",
        "init_distr = tfd.Categorical(probs=[0.8, 0.2]) #The first day of our observation\n",
        "transition_distribution = tfd.Categorical(probs=[[0.5, 0.5],\n",
        "                                                 [0.2, 0.8]])  # refer to points 3 and 4 above\n",
        "\n",
        "observation_distribution = tfd.Normal(loc=[0., 15.], scale=[5., 10.])  # refer to point 5 above"
      ],
      "execution_count": 17,
      "outputs": []
    },
    {
      "cell_type": "code",
      "metadata": {
        "id": "yxjRrDAiegec"
      },
      "source": [
        "model = tfd.HiddenMarkovModel(\n",
        "    initial_distribution=init_distr,\n",
        "    transition_distribution=transition_distribution,\n",
        "    observation_distribution=observation_distribution,\n",
        "    num_steps=7)"
      ],
      "execution_count": 18,
      "outputs": []
    },
    {
      "cell_type": "code",
      "metadata": {
        "colab": {
          "base_uri": "https://localhost:8080/"
        },
        "id": "Fn0arPUZexhJ",
        "outputId": "3aed4796-75a7-400f-e430-e3c06fee7826"
      },
      "source": [
        "mean = model.mean()\n",
        "\n",
        "# due to the way TensorFlow works on a lower level we need to evaluate part of the graph\n",
        "# from within a session to see the value of this tensor\n",
        "\n",
        "# in the new version of tensorflow we need to use tf.compat.v1.Session() rather than just tf.Session()\n",
        "with tf.compat.v1.Session() as sess:  \n",
        "  print(mean.numpy())"
      ],
      "execution_count": 16,
      "outputs": [
        {
          "output_type": "stream",
          "text": [
            "[ 2.9999998  8.4       10.0199995 10.506     10.651799  10.69554\n",
            " 10.708661 ]\n"
          ],
          "name": "stdout"
        }
      ]
    }
  ]
}