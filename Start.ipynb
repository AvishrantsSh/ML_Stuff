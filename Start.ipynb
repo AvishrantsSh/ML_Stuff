{
  "nbformat": 4,
  "nbformat_minor": 0,
  "metadata": {
    "colab": {
      "name": "Start.ipynb",
      "provenance": [],
      "authorship_tag": "ABX9TyMCBv28fiA7yew2EokSuTZ4",
      "include_colab_link": true
    },
    "kernelspec": {
      "name": "python3",
      "display_name": "Python 3"
    }
  },
  "cells": [
    {
      "cell_type": "markdown",
      "metadata": {
        "id": "view-in-github",
        "colab_type": "text"
      },
      "source": [
        "<a href=\"https://colab.research.google.com/github/AvishrantsSh/ML_Stuff/blob/main/Start.ipynb\" target=\"_parent\"><img src=\"https://colab.research.google.com/assets/colab-badge.svg\" alt=\"Open In Colab\"/></a>"
      ]
    },
    {
      "cell_type": "code",
      "metadata": {
        "id": "jAYmHBqPWA7R"
      },
      "source": [
        "%tensorflow_version 2.x\n",
        "import numpy\n",
        "import tensorflow as tf\n",
        "# Variable Declaration in Tensorflow\n",
        "string = tf.Variable(\"this is some data\", tf.string)"
      ],
      "execution_count": null,
      "outputs": []
    }
  ]
}