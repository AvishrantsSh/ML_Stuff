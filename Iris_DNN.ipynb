{
  "nbformat": 4,
  "nbformat_minor": 0,
  "metadata": {
    "colab": {
      "name": "Iris_DNN.ipynb",
      "provenance": [],
      "authorship_tag": "ABX9TyMM04eHiA2WEWNjJYuvyZcj",
      "include_colab_link": true
    },
    "kernelspec": {
      "name": "python3",
      "display_name": "Python 3"
    }
  },
  "cells": [
    {
      "cell_type": "markdown",
      "metadata": {
        "id": "view-in-github",
        "colab_type": "text"
      },
      "source": [
        "<a href=\"https://colab.research.google.com/github/AvishrantsSh/ML_Stuff/blob/main/Iris_DNN.ipynb\" target=\"_parent\"><img src=\"https://colab.research.google.com/assets/colab-badge.svg\" alt=\"Open In Colab\"/></a>"
      ]
    },
    {
      "cell_type": "code",
      "metadata": {
        "id": "FZKdrJMne-fG"
      },
      "source": [
        "%tensorflow_version 2.x"
      ],
      "execution_count": 3,
      "outputs": []
    },
    {
      "cell_type": "code",
      "metadata": {
        "colab": {
          "base_uri": "https://localhost:8080/"
        },
        "id": "JX1jlKAXfCoG",
        "outputId": "f88be197-7b37-4a87-a71c-4f3a59c1850b"
      },
      "source": [
        "import tensorflow as tf\n",
        "import numpy as np\n",
        "import pandas as pd\n",
        "import matplotlib.pyplot as plt\n",
        "from IPython.display import clear_output\n",
        "\n",
        "print(f\"Imports Done {tf.version}\")\n",
        "CSV_COLUMN_NAMES = ['SepalLength', 'SepalWidth', 'PetalLength', 'PetalWidth', 'Species']\n",
        "SPECIES = ['Setosa', 'Versicolor', 'Virginica']"
      ],
      "execution_count": 4,
      "outputs": [
        {
          "output_type": "stream",
          "text": [
            "Imports Done <module 'tensorflow._api.v2.version' from '/usr/local/lib/python3.6/dist-packages/tensorflow/_api/v2/version/__init__.py'>\n"
          ],
          "name": "stdout"
        }
      ]
    },
    {
      "cell_type": "code",
      "metadata": {
        "colab": {
          "base_uri": "https://localhost:8080/",
          "height": 282
        },
        "id": "RRm9B2WffIGu",
        "outputId": "ab2b7314-c8c7-4319-8e4a-316b6f1e7b34"
      },
      "source": [
        "# Data Set\n",
        "train_path = tf.keras.utils.get_file(\n",
        "    \"iris_training.csv\", \"https://storage.googleapis.com/download.tensorflow.org/data/iris_training.csv\")\n",
        "test_path = tf.keras.utils.get_file(\n",
        "    \"iris_test.csv\", \"https://storage.googleapis.com/download.tensorflow.org/data/iris_test.csv\")\n",
        "\n",
        "train = pd.read_csv(train_path, names=CSV_COLUMN_NAMES, header=0)\n",
        "test = pd.read_csv(test_path, names=CSV_COLUMN_NAMES, header=0)\n",
        "train.head()"
      ],
      "execution_count": 5,
      "outputs": [
        {
          "output_type": "stream",
          "text": [
            "Downloading data from https://storage.googleapis.com/download.tensorflow.org/data/iris_training.csv\n",
            "8192/2194 [================================================================================================================] - 0s 0us/step\n",
            "Downloading data from https://storage.googleapis.com/download.tensorflow.org/data/iris_test.csv\n",
            "8192/573 [============================================================================================================================================================================================================================================================================================================================================================================================================================================] - 0s 0us/step\n"
          ],
          "name": "stdout"
        },
        {
          "output_type": "execute_result",
          "data": {
            "text/html": [
              "<div>\n",
              "<style scoped>\n",
              "    .dataframe tbody tr th:only-of-type {\n",
              "        vertical-align: middle;\n",
              "    }\n",
              "\n",
              "    .dataframe tbody tr th {\n",
              "        vertical-align: top;\n",
              "    }\n",
              "\n",
              "    .dataframe thead th {\n",
              "        text-align: right;\n",
              "    }\n",
              "</style>\n",
              "<table border=\"1\" class=\"dataframe\">\n",
              "  <thead>\n",
              "    <tr style=\"text-align: right;\">\n",
              "      <th></th>\n",
              "      <th>SepalLength</th>\n",
              "      <th>SepalWidth</th>\n",
              "      <th>PetalLength</th>\n",
              "      <th>PetalWidth</th>\n",
              "      <th>Species</th>\n",
              "    </tr>\n",
              "  </thead>\n",
              "  <tbody>\n",
              "    <tr>\n",
              "      <th>0</th>\n",
              "      <td>6.4</td>\n",
              "      <td>2.8</td>\n",
              "      <td>5.6</td>\n",
              "      <td>2.2</td>\n",
              "      <td>2</td>\n",
              "    </tr>\n",
              "    <tr>\n",
              "      <th>1</th>\n",
              "      <td>5.0</td>\n",
              "      <td>2.3</td>\n",
              "      <td>3.3</td>\n",
              "      <td>1.0</td>\n",
              "      <td>1</td>\n",
              "    </tr>\n",
              "    <tr>\n",
              "      <th>2</th>\n",
              "      <td>4.9</td>\n",
              "      <td>2.5</td>\n",
              "      <td>4.5</td>\n",
              "      <td>1.7</td>\n",
              "      <td>2</td>\n",
              "    </tr>\n",
              "    <tr>\n",
              "      <th>3</th>\n",
              "      <td>4.9</td>\n",
              "      <td>3.1</td>\n",
              "      <td>1.5</td>\n",
              "      <td>0.1</td>\n",
              "      <td>0</td>\n",
              "    </tr>\n",
              "    <tr>\n",
              "      <th>4</th>\n",
              "      <td>5.7</td>\n",
              "      <td>3.8</td>\n",
              "      <td>1.7</td>\n",
              "      <td>0.3</td>\n",
              "      <td>0</td>\n",
              "    </tr>\n",
              "  </tbody>\n",
              "</table>\n",
              "</div>"
            ],
            "text/plain": [
              "   SepalLength  SepalWidth  PetalLength  PetalWidth  Species\n",
              "0          6.4         2.8          5.6         2.2        2\n",
              "1          5.0         2.3          3.3         1.0        1\n",
              "2          4.9         2.5          4.5         1.7        2\n",
              "3          4.9         3.1          1.5         0.1        0\n",
              "4          5.7         3.8          1.7         0.3        0"
            ]
          },
          "metadata": {
            "tags": []
          },
          "execution_count": 5
        }
      ]
    },
    {
      "cell_type": "code",
      "metadata": {
        "colab": {
          "base_uri": "https://localhost:8080/"
        },
        "id": "WH90keaFfQhh",
        "outputId": "9a8919d9-2cf1-4b62-96ed-d428ed9ff231"
      },
      "source": [
        "train_y = train.pop('Species')\n",
        "test_y = test.pop('Species')\n",
        "train_y.head()"
      ],
      "execution_count": 6,
      "outputs": [
        {
          "output_type": "execute_result",
          "data": {
            "text/plain": [
              "0    2\n",
              "1    1\n",
              "2    2\n",
              "3    0\n",
              "4    0\n",
              "Name: Species, dtype: int64"
            ]
          },
          "metadata": {
            "tags": []
          },
          "execution_count": 6
        }
      ]
    },
    {
      "cell_type": "code",
      "metadata": {
        "id": "Zc21yQdmfVHl"
      },
      "source": [
        "def input_fn(features, labels, training=True, batch_size=256):\n",
        "    # Convert the inputs to a Dataset.\n",
        "    dataset = tf.data.Dataset.from_tensor_slices((dict(features), labels))\n",
        "\n",
        "    # Shuffle and repeat if you are in training mode.\n",
        "    if training:\n",
        "        dataset = dataset.shuffle(1000).repeat()\n",
        "    \n",
        "    return dataset.batch(batch_size)"
      ],
      "execution_count": 7,
      "outputs": []
    },
    {
      "cell_type": "code",
      "metadata": {
        "colab": {
          "base_uri": "https://localhost:8080/"
        },
        "id": "clvg0ibAfVsf",
        "outputId": "df5a528a-11fe-41b8-f51f-1af432fc6ecd"
      },
      "source": [
        "# Feature columns describe how to use the input.\n",
        "my_feature_columns = []\n",
        "for key in train.keys():\n",
        "    my_feature_columns.append(tf.feature_column.numeric_column(key=key))\n",
        "print(my_feature_columns)"
      ],
      "execution_count": 8,
      "outputs": [
        {
          "output_type": "stream",
          "text": [
            "[NumericColumn(key='SepalLength', shape=(1,), default_value=None, dtype=tf.float32, normalizer_fn=None), NumericColumn(key='SepalWidth', shape=(1,), default_value=None, dtype=tf.float32, normalizer_fn=None), NumericColumn(key='PetalLength', shape=(1,), default_value=None, dtype=tf.float32, normalizer_fn=None), NumericColumn(key='PetalWidth', shape=(1,), default_value=None, dtype=tf.float32, normalizer_fn=None)]\n"
          ],
          "name": "stdout"
        }
      ]
    },
    {
      "cell_type": "code",
      "metadata": {
        "colab": {
          "base_uri": "https://localhost:8080/"
        },
        "id": "Ya8iH68ZfX_I",
        "outputId": "05b29678-2583-4637-ee29-d7bf175edef8"
      },
      "source": [
        "# Build a DNN with 2 hidden layers with 30 and 10 hidden nodes each.\n",
        "classifier = tf.estimator.DNNClassifier(\n",
        "    feature_columns=my_feature_columns,\n",
        "    # Two hidden layers of 30 and 10 nodes respectively.\n",
        "    hidden_units=[30, 10],\n",
        "    # The model must choose between 3 classes.\n",
        "    n_classes=3)"
      ],
      "execution_count": 9,
      "outputs": [
        {
          "output_type": "stream",
          "text": [
            "INFO:tensorflow:Using default config.\n",
            "WARNING:tensorflow:Using temporary folder as model directory: /tmp/tmpkeu1rzl4\n",
            "INFO:tensorflow:Using config: {'_model_dir': '/tmp/tmpkeu1rzl4', '_tf_random_seed': None, '_save_summary_steps': 100, '_save_checkpoints_steps': None, '_save_checkpoints_secs': 600, '_session_config': allow_soft_placement: true\n",
            "graph_options {\n",
            "  rewrite_options {\n",
            "    meta_optimizer_iterations: ONE\n",
            "  }\n",
            "}\n",
            ", '_keep_checkpoint_max': 5, '_keep_checkpoint_every_n_hours': 10000, '_log_step_count_steps': 100, '_train_distribute': None, '_device_fn': None, '_protocol': None, '_eval_distribute': None, '_experimental_distribute': None, '_experimental_max_worker_delay_secs': None, '_session_creation_timeout_secs': 7200, '_checkpoint_save_graph_def': True, '_service': None, '_cluster_spec': ClusterSpec({}), '_task_type': 'worker', '_task_id': 0, '_global_id_in_cluster': 0, '_master': '', '_evaluation_master': '', '_is_chief': True, '_num_ps_replicas': 0, '_num_worker_replicas': 1}\n"
          ],
          "name": "stdout"
        }
      ]
    },
    {
      "cell_type": "code",
      "metadata": {
        "colab": {
          "base_uri": "https://localhost:8080/"
        },
        "id": "OuvgeKP7fZzy",
        "outputId": "b1e024c7-0fd0-4a38-ed83-e3a3247d4742"
      },
      "source": [
        "classifier.train(\n",
        "    input_fn=lambda: input_fn(train, train_y, training=True),\n",
        "    steps=5000)\n",
        "# We include a lambda to avoid creating an inner function previously"
      ],
      "execution_count": 10,
      "outputs": [
        {
          "output_type": "stream",
          "text": [
            "WARNING:tensorflow:From /usr/local/lib/python3.6/dist-packages/tensorflow/python/training/training_util.py:236: Variable.initialized_value (from tensorflow.python.ops.variables) is deprecated and will be removed in a future version.\n",
            "Instructions for updating:\n",
            "Use Variable.read_value. Variables in 2.X are initialized automatically both in eager and graph (inside tf.defun) contexts.\n",
            "INFO:tensorflow:Calling model_fn.\n",
            "WARNING:tensorflow:From /usr/local/lib/python3.6/dist-packages/tensorflow/python/keras/optimizer_v2/adagrad.py:83: calling Constant.__init__ (from tensorflow.python.ops.init_ops) with dtype is deprecated and will be removed in a future version.\n",
            "Instructions for updating:\n",
            "Call initializer instance with the dtype argument instead of passing it to the constructor\n",
            "INFO:tensorflow:Done calling model_fn.\n",
            "INFO:tensorflow:Create CheckpointSaverHook.\n",
            "INFO:tensorflow:Graph was finalized.\n",
            "INFO:tensorflow:Running local_init_op.\n",
            "INFO:tensorflow:Done running local_init_op.\n",
            "INFO:tensorflow:Calling checkpoint listeners before saving checkpoint 0...\n",
            "INFO:tensorflow:Saving checkpoints for 0 into /tmp/tmpkeu1rzl4/model.ckpt.\n",
            "INFO:tensorflow:Calling checkpoint listeners after saving checkpoint 0...\n",
            "INFO:tensorflow:loss = 1.195409, step = 0\n",
            "INFO:tensorflow:global_step/sec: 367.819\n",
            "INFO:tensorflow:loss = 1.0917528, step = 100 (0.274 sec)\n",
            "INFO:tensorflow:global_step/sec: 441.856\n",
            "INFO:tensorflow:loss = 1.089241, step = 200 (0.226 sec)\n",
            "INFO:tensorflow:global_step/sec: 403.342\n",
            "INFO:tensorflow:loss = 1.0259986, step = 300 (0.248 sec)\n",
            "INFO:tensorflow:global_step/sec: 471.183\n",
            "INFO:tensorflow:loss = 0.99913454, step = 400 (0.212 sec)\n",
            "INFO:tensorflow:global_step/sec: 421.12\n",
            "INFO:tensorflow:loss = 0.98450154, step = 500 (0.240 sec)\n",
            "INFO:tensorflow:global_step/sec: 455.516\n",
            "INFO:tensorflow:loss = 0.9687395, step = 600 (0.218 sec)\n",
            "INFO:tensorflow:global_step/sec: 401.406\n",
            "INFO:tensorflow:loss = 0.95059836, step = 700 (0.250 sec)\n",
            "INFO:tensorflow:global_step/sec: 474.613\n",
            "INFO:tensorflow:loss = 0.9372358, step = 800 (0.210 sec)\n",
            "INFO:tensorflow:global_step/sec: 420.878\n",
            "INFO:tensorflow:loss = 0.919875, step = 900 (0.237 sec)\n",
            "INFO:tensorflow:global_step/sec: 475.813\n",
            "INFO:tensorflow:loss = 0.9026239, step = 1000 (0.208 sec)\n",
            "INFO:tensorflow:global_step/sec: 444.36\n",
            "INFO:tensorflow:loss = 0.88490945, step = 1100 (0.228 sec)\n",
            "INFO:tensorflow:global_step/sec: 430.363\n",
            "INFO:tensorflow:loss = 0.8682996, step = 1200 (0.230 sec)\n",
            "INFO:tensorflow:global_step/sec: 408.238\n",
            "INFO:tensorflow:loss = 0.8548232, step = 1300 (0.246 sec)\n",
            "INFO:tensorflow:global_step/sec: 464.063\n",
            "INFO:tensorflow:loss = 0.8391541, step = 1400 (0.213 sec)\n",
            "INFO:tensorflow:global_step/sec: 449.917\n",
            "INFO:tensorflow:loss = 0.82420015, step = 1500 (0.221 sec)\n",
            "INFO:tensorflow:global_step/sec: 469.878\n",
            "INFO:tensorflow:loss = 0.81035197, step = 1600 (0.214 sec)\n",
            "INFO:tensorflow:global_step/sec: 501.854\n",
            "INFO:tensorflow:loss = 0.7903775, step = 1700 (0.201 sec)\n",
            "INFO:tensorflow:global_step/sec: 455.994\n",
            "INFO:tensorflow:loss = 0.7783306, step = 1800 (0.217 sec)\n",
            "INFO:tensorflow:global_step/sec: 512.728\n",
            "INFO:tensorflow:loss = 0.76566887, step = 1900 (0.197 sec)\n",
            "INFO:tensorflow:global_step/sec: 488.042\n",
            "INFO:tensorflow:loss = 0.7519722, step = 2000 (0.205 sec)\n",
            "INFO:tensorflow:global_step/sec: 519.055\n",
            "INFO:tensorflow:loss = 0.73923546, step = 2100 (0.191 sec)\n",
            "INFO:tensorflow:global_step/sec: 471.383\n",
            "INFO:tensorflow:loss = 0.72475684, step = 2200 (0.214 sec)\n",
            "INFO:tensorflow:global_step/sec: 500.325\n",
            "INFO:tensorflow:loss = 0.7129433, step = 2300 (0.200 sec)\n",
            "INFO:tensorflow:global_step/sec: 482.276\n",
            "INFO:tensorflow:loss = 0.7018708, step = 2400 (0.207 sec)\n",
            "INFO:tensorflow:global_step/sec: 495.526\n",
            "INFO:tensorflow:loss = 0.6784721, step = 2500 (0.199 sec)\n",
            "INFO:tensorflow:global_step/sec: 474.314\n",
            "INFO:tensorflow:loss = 0.67545295, step = 2600 (0.211 sec)\n",
            "INFO:tensorflow:global_step/sec: 510.976\n",
            "INFO:tensorflow:loss = 0.6647902, step = 2700 (0.197 sec)\n",
            "INFO:tensorflow:global_step/sec: 473.556\n",
            "INFO:tensorflow:loss = 0.6628761, step = 2800 (0.210 sec)\n",
            "INFO:tensorflow:global_step/sec: 554.206\n",
            "INFO:tensorflow:loss = 0.6441977, step = 2900 (0.180 sec)\n",
            "INFO:tensorflow:global_step/sec: 432.974\n",
            "INFO:tensorflow:loss = 0.6368727, step = 3000 (0.231 sec)\n",
            "INFO:tensorflow:global_step/sec: 525.82\n",
            "INFO:tensorflow:loss = 0.6223589, step = 3100 (0.189 sec)\n",
            "INFO:tensorflow:global_step/sec: 437.115\n",
            "INFO:tensorflow:loss = 0.61821336, step = 3200 (0.229 sec)\n",
            "INFO:tensorflow:global_step/sec: 474.145\n",
            "INFO:tensorflow:loss = 0.60770416, step = 3300 (0.211 sec)\n",
            "INFO:tensorflow:global_step/sec: 481.626\n",
            "INFO:tensorflow:loss = 0.5938756, step = 3400 (0.211 sec)\n",
            "INFO:tensorflow:global_step/sec: 520.864\n",
            "INFO:tensorflow:loss = 0.5794537, step = 3500 (0.189 sec)\n",
            "INFO:tensorflow:global_step/sec: 533.092\n",
            "INFO:tensorflow:loss = 0.58397907, step = 3600 (0.186 sec)\n",
            "INFO:tensorflow:global_step/sec: 470.057\n",
            "INFO:tensorflow:loss = 0.5771539, step = 3700 (0.215 sec)\n",
            "INFO:tensorflow:global_step/sec: 463.948\n",
            "INFO:tensorflow:loss = 0.56642604, step = 3800 (0.217 sec)\n",
            "INFO:tensorflow:global_step/sec: 471.615\n",
            "INFO:tensorflow:loss = 0.55735135, step = 3900 (0.212 sec)\n",
            "INFO:tensorflow:global_step/sec: 465.707\n",
            "INFO:tensorflow:loss = 0.54375625, step = 4000 (0.213 sec)\n",
            "INFO:tensorflow:global_step/sec: 491.762\n",
            "INFO:tensorflow:loss = 0.5457199, step = 4100 (0.203 sec)\n",
            "INFO:tensorflow:global_step/sec: 479.187\n",
            "INFO:tensorflow:loss = 0.5329987, step = 4200 (0.208 sec)\n",
            "INFO:tensorflow:global_step/sec: 522.239\n",
            "INFO:tensorflow:loss = 0.5249085, step = 4300 (0.192 sec)\n",
            "INFO:tensorflow:global_step/sec: 497.671\n",
            "INFO:tensorflow:loss = 0.5295161, step = 4400 (0.204 sec)\n",
            "INFO:tensorflow:global_step/sec: 450.099\n",
            "INFO:tensorflow:loss = 0.5242449, step = 4500 (0.219 sec)\n",
            "INFO:tensorflow:global_step/sec: 467.371\n",
            "INFO:tensorflow:loss = 0.5119758, step = 4600 (0.214 sec)\n",
            "INFO:tensorflow:global_step/sec: 457.056\n",
            "INFO:tensorflow:loss = 0.51777613, step = 4700 (0.219 sec)\n",
            "INFO:tensorflow:global_step/sec: 465.149\n",
            "INFO:tensorflow:loss = 0.49976918, step = 4800 (0.215 sec)\n",
            "INFO:tensorflow:global_step/sec: 500.676\n",
            "INFO:tensorflow:loss = 0.494466, step = 4900 (0.201 sec)\n",
            "INFO:tensorflow:Calling checkpoint listeners before saving checkpoint 5000...\n",
            "INFO:tensorflow:Saving checkpoints for 5000 into /tmp/tmpkeu1rzl4/model.ckpt.\n",
            "INFO:tensorflow:Calling checkpoint listeners after saving checkpoint 5000...\n",
            "INFO:tensorflow:Loss for final step: 0.4923366.\n"
          ],
          "name": "stdout"
        },
        {
          "output_type": "execute_result",
          "data": {
            "text/plain": [
              "<tensorflow_estimator.python.estimator.canned.dnn.DNNClassifierV2 at 0x7f510f9d1550>"
            ]
          },
          "metadata": {
            "tags": []
          },
          "execution_count": 10
        }
      ]
    },
    {
      "cell_type": "code",
      "metadata": {
        "colab": {
          "base_uri": "https://localhost:8080/"
        },
        "id": "LPGV30UTfZrO",
        "outputId": "01d19d1b-ecf2-43bd-de54-6f09ece5421c"
      },
      "source": [
        "eval_result = classifier.evaluate(\n",
        "    input_fn=lambda: input_fn(test, test_y, training=False))\n",
        "\n",
        "print('\\nTest set accuracy: {accuracy:0.3f}\\n'.format(**eval_result))"
      ],
      "execution_count": 11,
      "outputs": [
        {
          "output_type": "stream",
          "text": [
            "INFO:tensorflow:Calling model_fn.\n",
            "INFO:tensorflow:Done calling model_fn.\n",
            "INFO:tensorflow:Starting evaluation at 2021-01-16T13:59:25Z\n",
            "INFO:tensorflow:Graph was finalized.\n",
            "INFO:tensorflow:Restoring parameters from /tmp/tmpkeu1rzl4/model.ckpt-5000\n",
            "INFO:tensorflow:Running local_init_op.\n",
            "INFO:tensorflow:Done running local_init_op.\n",
            "INFO:tensorflow:Inference Time : 0.29659s\n",
            "INFO:tensorflow:Finished evaluation at 2021-01-16-13:59:26\n",
            "INFO:tensorflow:Saving dict for global step 5000: accuracy = 0.8333333, average_loss = 0.55972916, global_step = 5000, loss = 0.55972916\n",
            "INFO:tensorflow:Saving 'checkpoint_path' summary for global step 5000: /tmp/tmpkeu1rzl4/model.ckpt-5000\n",
            "\n",
            "Test set accuracy: 0.833\n",
            "\n"
          ],
          "name": "stdout"
        }
      ]
    }
  ]
}